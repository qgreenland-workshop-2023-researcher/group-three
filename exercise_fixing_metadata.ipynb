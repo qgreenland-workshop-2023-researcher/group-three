{
 "cells": [
  {
   "cell_type": "markdown",
   "id": "b205eb26-6cfe-4ca8-ab2d-acf31aab319b",
   "metadata": {
    "user_expressions": []
   },
   "source": [
    "# Exercise: fixing metadata"
   ]
  },
  {
   "cell_type": "markdown",
   "id": "bce7fd32-b0fe-4f61-a40a-49cb44096201",
   "metadata": {
    "user_expressions": []
   },
   "source": [
    "Our dataset does not have a CRS assigned. when we drag it to QGIS, it does not show up straight away. We need to select WGS84 afterwards to make it show up on the right place."
   ]
  },
  {
   "cell_type": "code",
   "execution_count": 9,
   "id": "36ca439a-8ca0-4c50-8dff-f8b64138e0d1",
   "metadata": {
    "tags": []
   },
   "outputs": [
    {
     "name": "stdout",
     "output_type": "stream",
     "text": [
      "Creating output file that is 78P x 32L.\n",
      "Processing NETCDF:airtemp_only_Greenland.nc:histclim [1/1] : 0Using internal nodata values (e.g. 1e+20) for image NETCDF:airtemp_only_Greenland.nc:histclim.\n",
      "Copying nodata values from source NETCDF:airtemp_only_Greenland.nc:histclim to destination airtemp_histclim_only_Greenland_with_CRS.nc.\n",
      "...10...20...30...40...50...60...70...80...90...100 - done.\n"
     ]
    }
   ],
   "source": [
    "f_in='airtemp_only_Greenland.nc'\n",
    "f_out='airtemp_histclim_only_Greenland_with_CRS.nc'\n",
    "!gdalwarp -t_srs '+proj=lonlat +datum=WGS84 +no_defs' \"NETCDF:$f_in:histclim\" $f_out"
   ]
  },
  {
   "cell_type": "markdown",
   "id": "cd9e5b58-362d-4a93-bb6d-fada8a19a3a9",
   "metadata": {
    "user_expressions": []
   },
   "source": [
    "This is how the data looked before:"
   ]
  },
  {
   "cell_type": "code",
   "execution_count": 13,
   "id": "72da090f-6e13-4d45-ae5e-ad910f419888",
   "metadata": {
    "tags": []
   },
   "outputs": [
    {
     "name": "stdout",
     "output_type": "stream",
     "text": [
      "Driver: netCDF/Network Common Data Format\n",
      "Files: airtemp_only_Greenland.nc\n",
      "Size is 512, 512\n",
      "Metadata:\n",
      "  NC_GLOBAL#acknowledgement=We acknowledge the World Climate Research Programme's Working Group on Coupled Modelling, which is responsible for CMIP, and we thank the climate modeling groups listed below for producing and making available their model output. For CMIP the U.S. Department of Energy's Program for Climate Model Diagnosis and Intercomparison provides coordinating support and led development of software infrastructure in partnership with the Global Organization for Earth System Science Portals. More information on the Coupled Model Intercomparison Project (CMIP5) and the 5th Assessment of the IPCC can be found here: http://cmip-pcmdi.llnl.gov/cmip5/index.html\n",
      "  NC_GLOBAL#experiment=rcp85\n",
      "  NC_GLOBAL#futuretime=2006-2055\n",
      "  NC_GLOBAL#historictime=1956-2005\n",
      "  NC_GLOBAL#history=This data file was produced at NOAA/ESRL/PSD with the support of the US Bureau of Reclamation, US Army Corps of Engineers, and CIRES with the esrl.noaa.gov/psd/ipcc/ocn website.\n",
      "  NC_GLOBAL#model=ENSMN\n",
      "  NC_GLOBAL#variable=tas\n",
      "Subdatasets:\n",
      "  SUBDATASET_1_NAME=NETCDF:\"airtemp_only_Greenland.nc\":histclim\n",
      "  SUBDATASET_1_DESC=[32x78] air_temperature (32-bit floating-point)\n",
      "  SUBDATASET_2_NAME=NETCDF:\"airtemp_only_Greenland.nc\":anomaly\n",
      "  SUBDATASET_2_DESC=[32x78] air_temperature (32-bit floating-point)\n",
      "  SUBDATASET_3_NAME=NETCDF:\"airtemp_only_Greenland.nc\":histstddev\n",
      "  SUBDATASET_3_DESC=[32x78] air_temperature (32-bit floating-point)\n",
      "  SUBDATASET_4_NAME=NETCDF:\"airtemp_only_Greenland.nc\":varratio\n",
      "  SUBDATASET_4_DESC=[32x78] air_temperature (32-bit floating-point)\n",
      "Corner Coordinates:\n",
      "Upper Left  (    0.0,    0.0)\n",
      "Lower Left  (    0.0,  512.0)\n",
      "Upper Right (  512.0,    0.0)\n",
      "Lower Right (  512.0,  512.0)\n",
      "Center      (  256.0,  256.0)\n"
     ]
    }
   ],
   "source": [
    "!gdalinfo $f_in"
   ]
  },
  {
   "cell_type": "markdown",
   "id": "ab3b0aba-46f1-4184-9ebd-5d8f4e9a52e8",
   "metadata": {
    "user_expressions": []
   },
   "source": [
    "And now after using `gdalwarp` to assign metadata:"
   ]
  },
  {
   "cell_type": "code",
   "execution_count": 12,
   "id": "c1fb2764-088b-44d4-ae2d-73f1cc4cf624",
   "metadata": {
    "tags": []
   },
   "outputs": [
    {
     "name": "stdout",
     "output_type": "stream",
     "text": [
      "Driver: netCDF/Network Common Data Format\n",
      "Files: airtemp_histclim_only_Greenland_with_CRS.nc\n",
      "Size is 78, 32\n",
      "Coordinate System is:\n",
      "GEOGCRS[\"unknown\",\n",
      "    DATUM[\"World Geodetic System 1984\",\n",
      "        ELLIPSOID[\"WGS 84\",6378137,298.257223563,\n",
      "            LENGTHUNIT[\"metre\",1]],\n",
      "        ID[\"EPSG\",6326]],\n",
      "    PRIMEM[\"Greenwich\",0,\n",
      "        ANGLEUNIT[\"degree\",0.0174532925199433],\n",
      "        ID[\"EPSG\",8901]],\n",
      "    CS[ellipsoidal,2],\n",
      "        AXIS[\"longitude\",east,\n",
      "            ORDER[1],\n",
      "            ANGLEUNIT[\"degree\",0.0174532925199433,\n",
      "                ID[\"EPSG\",9122]]],\n",
      "        AXIS[\"latitude\",north,\n",
      "            ORDER[2],\n",
      "            ANGLEUNIT[\"degree\",0.0174532925199433,\n",
      "                ID[\"EPSG\",9122]]]]\n",
      "Data axis to CRS axis mapping: 1,2\n",
      "Origin = (-78.000000000000000,86.000000000000000)\n",
      "Pixel Size = (1.000000000000000,-1.000000000000000)\n",
      "Metadata:\n",
      "  Band1#associated_files=baseURL: http://cmip-pcmdi.llnl.gov/CMIP5/dataLocation gridspecFile: gridspec_atmos_fx_MIROC-ESM_rcp85_r0i0p0.nc areacella: areacella_fx_MIROC-ESM_rcp85_r0i0p0.nc\n",
      "  Band1#average_op_ncl=dim_avg_n function was applied\n",
      "  Band1#cell_methods=time: mean\n",
      "  Band1#comment=near-surface (usually, 2 meter) air temperature.\n",
      "  Band1#description=Ensemble average climate\n",
      "  Band1#grid_mapping=crs\n",
      "  Band1#history=2011-09-13T04:34:46Z altered by CMOR: Treated scalar dimension: 'height'. 2011-09-13T04:34:46Z altered by CMOR: replaced missing value flag (-999) with standard missing value (1e+20). 2011-09-13T04:34:46Z altered by CMOR: Inverted axis: lat.\n",
      "  Band1#info=CMIP5 ENSMN historical climate(1956-2005)\n",
      "  Band1#interpolation=bilinearly interplated from original model grid to 1x1 grid for intercomparison\n",
      "  Band1#long_name=Near-Surface Air Temperature\n",
      "  Band1#original_name=T2\n",
      "  Band1#runave_op_ncl=runave_n: nave=12\n",
      "  Band1#season=ANN\n",
      "  Band1#standard_name=air_temperature\n",
      "  Band1#stat=seasonal mean for time period\n",
      "  Band1#units=C\n",
      "  Band1#_FillValue=1e+20\n",
      "  crs#crs_wkt=GEOGCS[\"unknown\",DATUM[\"WGS_1984\",SPHEROID[\"WGS 84\",6378137,298.257223563,AUTHORITY[\"EPSG\",\"7030\"]],AUTHORITY[\"EPSG\",\"6326\"]],PRIMEM[\"Greenwich\",0,AUTHORITY[\"EPSG\",\"8901\"]],UNIT[\"degree\",0.0174532925199433,AUTHORITY[\"EPSG\",\"9122\"]],AXIS[\"Longitude\",EAST],AXIS[\"Latitude\",NORTH]]\n",
      "  crs#GeoTransform=-78 1 0 86 0 -1 \n",
      "  crs#grid_mapping_name=latitude_longitude\n",
      "  crs#inverse_flattening=298.257223563\n",
      "  crs#longitude_of_prime_meridian=0\n",
      "  crs#long_name=CRS definition\n",
      "  crs#semi_major_axis=6378137\n",
      "  crs#spatial_ref=GEOGCS[\"unknown\",DATUM[\"WGS_1984\",SPHEROID[\"WGS 84\",6378137,298.257223563,AUTHORITY[\"EPSG\",\"7030\"]],AUTHORITY[\"EPSG\",\"6326\"]],PRIMEM[\"Greenwich\",0,AUTHORITY[\"EPSG\",\"8901\"]],UNIT[\"degree\",0.0174532925199433,AUTHORITY[\"EPSG\",\"9122\"]],AXIS[\"Longitude\",EAST],AXIS[\"Latitude\",NORTH]]\n",
      "  lat#long_name=latitude\n",
      "  lat#standard_name=latitude\n",
      "  lat#units=degrees_north\n",
      "  lon#long_name=longitude\n",
      "  lon#standard_name=longitude\n",
      "  lon#units=degrees_east\n",
      "  NC_GLOBAL#acknowledgement=We acknowledge the World Climate Research Programme's Working Group on Coupled Modelling, which is responsible for CMIP, and we thank the climate modeling groups listed below for producing and making available their model output. For CMIP the U.S. Department of Energy's Program for Climate Model Diagnosis and Intercomparison provides coordinating support and led development of software infrastructure in partnership with the Global Organization for Earth System Science Portals. More information on the Coupled Model Intercomparison Project (CMIP5) and the 5th Assessment of the IPCC can be found here: http://cmip-pcmdi.llnl.gov/cmip5/index.html\n",
      "  NC_GLOBAL#Conventions=CF-1.5\n",
      "  NC_GLOBAL#experiment=rcp85\n",
      "  NC_GLOBAL#futuretime=2006-2055\n",
      "  NC_GLOBAL#GDAL=GDAL 3.6.4, released 2023/04/17\n",
      "  NC_GLOBAL#historictime=1956-2005\n",
      "  NC_GLOBAL#history=This data file was produced at NOAA/ESRL/PSD with the support of the US Bureau of Reclamation, US Army Corps of Engineers, and CIRES with the esrl.noaa.gov/psd/ipcc/ocn website.\n",
      "  NC_GLOBAL#model=ENSMN\n",
      "  NC_GLOBAL#variable=tas\n",
      "Corner Coordinates:\n",
      "Upper Left  ( -78.0000000,  86.0000000) ( 78d 0' 0.00\"W, 86d 0' 0.00\"N)\n",
      "Lower Left  ( -78.0000000,  54.0000000) ( 78d 0' 0.00\"W, 54d 0' 0.00\"N)\n",
      "Upper Right (   0.0000000,  86.0000000) (  0d 0' 0.01\"E, 86d 0' 0.00\"N)\n",
      "Lower Right (   0.0000000,  54.0000000) (  0d 0' 0.01\"E, 54d 0' 0.00\"N)\n",
      "Center      ( -39.0000000,  70.0000000) ( 39d 0' 0.00\"W, 70d 0' 0.00\"N)\n",
      "Band 1 Block=78x1 Type=Float32, ColorInterp=Undefined\n",
      "  NoData Value=1e+20\n",
      "  Unit Type: C\n",
      "  Metadata:\n",
      "    associated_files=baseURL: http://cmip-pcmdi.llnl.gov/CMIP5/dataLocation gridspecFile: gridspec_atmos_fx_MIROC-ESM_rcp85_r0i0p0.nc areacella: areacella_fx_MIROC-ESM_rcp85_r0i0p0.nc\n",
      "    average_op_ncl=dim_avg_n function was applied\n",
      "    cell_methods=time: mean\n",
      "    comment=near-surface (usually, 2 meter) air temperature.\n",
      "    description=Ensemble average climate\n",
      "    grid_mapping=crs\n",
      "    history=2011-09-13T04:34:46Z altered by CMOR: Treated scalar dimension: 'height'. 2011-09-13T04:34:46Z altered by CMOR: replaced missing value flag (-999) with standard missing value (1e+20). 2011-09-13T04:34:46Z altered by CMOR: Inverted axis: lat.\n",
      "    info=CMIP5 ENSMN historical climate(1956-2005)\n",
      "    interpolation=bilinearly interplated from original model grid to 1x1 grid for intercomparison\n",
      "    long_name=Near-Surface Air Temperature\n",
      "    NETCDF_VARNAME=Band1\n",
      "    original_name=T2\n",
      "    runave_op_ncl=runave_n: nave=12\n",
      "    season=ANN\n",
      "    standard_name=air_temperature\n",
      "    stat=seasonal mean for time period\n",
      "    units=C\n",
      "    _FillValue=1e+20\n"
     ]
    }
   ],
   "source": [
    "!gdalinfo $f_out"
   ]
  },
  {
   "cell_type": "code",
   "execution_count": null,
   "id": "e8d1ad6a-0589-4886-8faf-05db7f9cb98e",
   "metadata": {},
   "outputs": [],
   "source": []
  }
 ],
 "metadata": {
  "kernelspec": {
   "display_name": "Python 3 (ipykernel)",
   "language": "python",
   "name": "python3"
  },
  "language_info": {
   "codemirror_mode": {
    "name": "ipython",
    "version": 3
   },
   "file_extension": ".py",
   "mimetype": "text/x-python",
   "name": "python",
   "nbconvert_exporter": "python",
   "pygments_lexer": "ipython3",
   "version": "3.10.11"
  }
 },
 "nbformat": 4,
 "nbformat_minor": 5
}
